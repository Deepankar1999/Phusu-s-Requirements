{
 "cells": [
  {
   "cell_type": "markdown",
   "id": "6b998e74",
   "metadata": {},
   "source": [
    "### Important Note\n",
    "CSV file hona chahiye aur pehla waala column category aur dsra text.\n",
    "aisa nae kiya toh code hug 💩 dega"
   ]
  },
  {
   "cell_type": "code",
   "execution_count": null,
   "id": "31ee7e9b",
   "metadata": {},
   "outputs": [],
   "source": [
    "# Import necessary libraries\n",
    "\n",
    "import pandas as pd\n",
    "\n",
    "from sklearn.model_selection import train_test_split\n",
    "from sklearn.feature_extraction.text import TfidfVectorizer\n",
    "from sklearn.linear_model import LogisticRegression\n",
    "from sklearn.metrics import accuracy_score\n",
    "import nltk\n",
    "from nltk.corpus import stopwords\n",
    "\n",
    "\n",
    "# Libraries for visualisation\n",
    "\n",
    "import matplotlib.pyplot as plt\n",
    "import seaborn as sns"
   ]
  },
  {
   "cell_type": "code",
   "execution_count": null,
   "id": "150eb329",
   "metadata": {},
   "outputs": [],
   "source": [
    "nltk.download('stopwords')"
   ]
  },
  {
   "cell_type": "code",
   "execution_count": null,
   "id": "bcc91f8a",
   "metadata": {},
   "outputs": [],
   "source": [
    "file_path=\" \"#Idhar file path dal dena\n",
    "\n",
    "df=pd.read_csv(file_path,encoding=\"latin-1\") #Use the preffered encoding\n",
    "\n",
    "# Drop unnecessary columns from the DataFrame\n",
    "\n",
    "\n",
    "df.columns=['Category','Text']\n",
    "data=df.where((pd.notnull(df)),\" \")\n",
    "data"
   ]
  },
  {
   "cell_type": "code",
   "execution_count": null,
   "id": "958c3fbf",
   "metadata": {},
   "outputs": [],
   "source": [
    "data.describe()\n"
   ]
  },
  {
   "cell_type": "code",
   "execution_count": null,
   "id": "3f72bb3c",
   "metadata": {},
   "outputs": [],
   "source": [
    "data.info()"
   ]
  },
  {
   "cell_type": "code",
   "execution_count": null,
   "id": "5a19737d",
   "metadata": {},
   "outputs": [],
   "source": [
    "data.shape"
   ]
  },
  {
   "cell_type": "markdown",
   "id": "e016d5d3",
   "metadata": {},
   "source": [
    "### Converting to numerical representation"
   ]
  },
  {
   "cell_type": "code",
   "execution_count": null,
   "id": "71aedefe",
   "metadata": {},
   "outputs": [],
   "source": [
    "cat1=\" \"#Isme pehla category dalna jisko 0 baana na chahta usko daal idhar\n",
    "cat2=\" \"#Isme dsra category dalna jisko 1 baana na chahta usko daal idhar\n",
    "data.loc[data[\"Category\"] == cat1 , \"Category\"]=0\n",
    "data.loc[data[\"Category\"] == cat2 , \"Category\"]=1\n",
    "\n",
    "X=data[\"Text\"]\n",
    "Y=data[\"Category\"]\n",
    "\n"
   ]
  },
  {
   "cell_type": "code",
   "execution_count": null,
   "id": "112b5ef5",
   "metadata": {},
   "outputs": [],
   "source": [
    "print(X)\n",
    "print(Y)"
   ]
  },
  {
   "cell_type": "code",
   "execution_count": null,
   "id": "16dfd3b3",
   "metadata": {},
   "outputs": [],
   "source": [
    "#Training and Testing Data Split\n",
    "X_train, X_test, Y_train, Y_test = train_test_split(X, Y, test_size = 0.2, random_state = 3)"
   ]
  },
  {
   "cell_type": "code",
   "execution_count": null,
   "id": "7ed1c34c",
   "metadata": {},
   "outputs": [],
   "source": [
    "print(X.shape)\n",
    "print(X_train.shape)\n",
    "print(X_test.shape)"
   ]
  },
  {
   "cell_type": "code",
   "execution_count": null,
   "id": "ee75fabb",
   "metadata": {},
   "outputs": [],
   "source": [
    "print(Y.shape)\n",
    "print(Y_train.shape)\n",
    "print(Y_test.shape)"
   ]
  },
  {
   "cell_type": "code",
   "execution_count": null,
   "id": "3e291516",
   "metadata": {},
   "outputs": [],
   "source": [
    "feature_extraction = TfidfVectorizer(min_df=1, stop_words=\"english\", lowercase=True)"
   ]
  },
  {
   "cell_type": "code",
   "execution_count": null,
   "id": "e97541c1",
   "metadata": {},
   "outputs": [],
   "source": [
    "X_train_features = feature_extraction.fit_transform(X_train)\n",
    "X_test_features = feature_extraction.transform(X_test)"
   ]
  },
  {
   "cell_type": "code",
   "execution_count": null,
   "id": "974f6fba",
   "metadata": {},
   "outputs": [],
   "source": [
    "Y_train = Y_train.astype(\"int\")\n",
    "Y_test = Y_test.astype(\"int\")"
   ]
  },
  {
   "cell_type": "markdown",
   "id": "faa69db7",
   "metadata": {},
   "source": [
    "### Logistic Regression...."
   ]
  },
  {
   "cell_type": "code",
   "execution_count": null,
   "id": "6e56995f",
   "metadata": {},
   "outputs": [],
   "source": [
    "model=LogisticRegression()\n",
    "model.fit(X_train_features,Y_train)"
   ]
  },
  {
   "cell_type": "code",
   "execution_count": null,
   "id": "94739494",
   "metadata": {},
   "outputs": [],
   "source": [
    "prediction_on_training_data = model.predict(X_train_features)\n",
    "accuracy_on_training_data = accuracy_score(Y_train, prediction_on_training_data)"
   ]
  },
  {
   "cell_type": "code",
   "execution_count": null,
   "id": "9ab96d31",
   "metadata": {},
   "outputs": [],
   "source": [
    "print(\"Accuracy of training data:\",accuracy_on_training_data)"
   ]
  },
  {
   "cell_type": "code",
   "execution_count": null,
   "id": "f9241072",
   "metadata": {},
   "outputs": [],
   "source": [
    "prediction_on_test_data = model.predict(X_test_features)\n",
    "accuracy_on_test_data = accuracy_score(Y_test,prediction_on_test_data)"
   ]
  },
  {
   "cell_type": "code",
   "execution_count": null,
   "id": "35d0d29f",
   "metadata": {},
   "outputs": [],
   "source": [
    "print(\"Accuracy of test data:\",accuracy_on_test_data)"
   ]
  },
  {
   "cell_type": "code",
   "execution_count": null,
   "id": "f998b114",
   "metadata": {},
   "outputs": [],
   "source": [
    "input_text=input()\n",
    "input_your_text = [input_text]\n",
    "input_data_features = feature_extraction.transform(input_your_text)\n",
    "prediction = model.predict(input_data_features)\n",
    "print(prediction)\n",
    "\n",
    "\n",
    "# Print the prediction result\n",
    "\n",
    "if (prediction)[0] == 1:\n",
    "  print(cat2)\n",
    "else:\n",
    "  print(cat1)"
   ]
  },
  {
   "cell_type": "markdown",
   "id": "36b1a1f6",
   "metadata": {},
   "source": [
    "# All the Best Bro 🔥"
   ]
  },
  {
   "cell_type": "code",
   "execution_count": null,
   "id": "cbe49b14",
   "metadata": {},
   "outputs": [],
   "source": []
  }
 ],
 "metadata": {
  "kernelspec": {
   "display_name": "Python 3 (ipykernel)",
   "language": "python",
   "name": "python3"
  },
  "language_info": {
   "codemirror_mode": {
    "name": "ipython",
    "version": 3
   },
   "file_extension": ".py",
   "mimetype": "text/x-python",
   "name": "python",
   "nbconvert_exporter": "python",
   "pygments_lexer": "ipython3",
   "version": "3.9.7"
  }
 },
 "nbformat": 4,
 "nbformat_minor": 5
}
